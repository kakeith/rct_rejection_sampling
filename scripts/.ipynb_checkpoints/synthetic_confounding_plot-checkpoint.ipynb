{
 "cells": [
  {
   "cell_type": "markdown",
   "id": "3d0bade5",
   "metadata": {},
   "source": [
    "# Synthetic Confounding Plot\n",
    "\n",
    "We create the follow plot for Appendix I:\n",
    "- x-axis strength of confounding\n",
    "- y-axis estimated ATE "
   ]
  },
  {
   "cell_type": "code",
   "execution_count": 1,
   "id": "167e17fa",
   "metadata": {},
   "outputs": [],
   "source": [
    "from causal_eval.sampling import *\n",
    "\n",
    "import seaborn as sns\n",
    "import matplotlib.pyplot as plt\n",
    "\n",
    "%load_ext autoreload\n",
    "%autoreload 2 "
   ]
  },
  {
   "cell_type": "code",
   "execution_count": 2,
   "id": "a9d32223",
   "metadata": {},
   "outputs": [],
   "source": [
    "# random seed for the sampling methods same throughout\n",
    "rng = np.random.default_rng(10)"
   ]
  },
  {
   "cell_type": "markdown",
   "id": "371e4c4d",
   "metadata": {},
   "source": [
    "### Synthetic DGP Setting #1 "
   ]
  },
  {
   "cell_type": "code",
   "execution_count": 3,
   "id": "05eec4c0",
   "metadata": {},
   "outputs": [
    {
     "name": "stdout",
     "output_type": "stream",
     "text": [
      "Sanity check\n",
      "RCT ACE unadjusted:  2.4809951502961516\n",
      "RCT ACE adjusting for C parametric backdoor:  2.4864917936261794\n"
     ]
    }
   ],
   "source": [
    "data, rct_ace = synthetic_dgp(setting=1, num_samples=100000)"
   ]
  },
  {
   "cell_type": "code",
   "execution_count": 4,
   "id": "b61d706b",
   "metadata": {},
   "outputs": [],
   "source": [
    "def weights_for_rejection(data, confound_strength): \n",
    "    T = data[\"T\"]\n",
    "    pT = np.mean(T) * np.ones(len(data))\n",
    "    pT[data[\"T\"] == 0] = 1 - pT[data[\"T\"] == 0]\n",
    "    p_TC =  expit(-1 + confound_strength * data[\"C\"]) #Line that is changed given argument\n",
    "    p_TC[data[\"T\"] == 0] = 1 - p_TC[data[\"T\"] == 0]\n",
    "    weights = p_TC / pT\n",
    "    return weights, p_TC, pT"
   ]
  },
  {
   "cell_type": "markdown",
   "id": "d3a758ee",
   "metadata": {},
   "source": [
    "I'm choosing the confounding strength grid so that $0.05 < P(T|C) < 0.95$ to ensure overalp. "
   ]
  },
  {
   "cell_type": "code",
   "execution_count": 5,
   "id": "65ae46a2",
   "metadata": {},
   "outputs": [
    {
     "name": "stdout",
     "output_type": "stream",
     "text": [
      "0.11920292202211755\n",
      "0.18242552380635635\n",
      "0.2689414213699951\n",
      "0.3775406687981454\n",
      "0.5\n",
      "0.6224593312018546\n",
      "0.7310585786300049\n",
      "0.8175744761936437\n",
      "0.8807970779778823\n",
      "0.9241418199787566\n"
     ]
    }
   ],
   "source": [
    "CONFOUNDING_STRENGTH_GRID = np.arange(-1, 4, 0.5)\n",
    "\n",
    "for x in CONFOUNDING_STRENGTH_GRID: \n",
    "    print(expit(-1 + x))"
   ]
  },
  {
   "cell_type": "markdown",
   "id": "ec4b4f2e",
   "metadata": {},
   "source": [
    "Now, gather the data for many random seeds. "
   ]
  },
  {
   "cell_type": "code",
   "execution_count": 6,
   "id": "7d4e6153",
   "metadata": {},
   "outputs": [
    {
     "name": "stdout",
     "output_type": "stream",
     "text": [
      "Invalid sample, T*C==T for all units\n"
     ]
    }
   ],
   "source": [
    "NUM_RANDOM_SEEDS = 1000\n",
    "\n",
    "x_axis_confound_strength = []\n",
    "y_axis_ace = []\n",
    "\n",
    "for seed in range(NUM_RANDOM_SEEDS): \n",
    "    rng = np.random.default_rng(seed)\n",
    "    for confound_strength in CONFOUNDING_STRENGTH_GRID: \n",
    "        weights, p_TC, pT = weights_for_rejection(data, confound_strength)\n",
    "        M = np.max(p_TC) / np.min(pT)\n",
    "        data_resampled = rejection_sampler(data, weights, rng, M=M)\n",
    "        if check_invalid_sample(data_resampled): continue\n",
    "        sample_ace = parametric_backdoor(data_resampled, \"Y\", \"T\", [\"C\", \"T*C\"])\n",
    "        \n",
    "        x_axis_confound_strength.append(confound_strength)\n",
    "        y_axis_ace.append(sample_ace)"
   ]
  },
  {
   "cell_type": "code",
   "execution_count": 7,
   "id": "8e717714",
   "metadata": {},
   "outputs": [
    {
     "data": {
      "image/png": "[encoded data removed]",
      "text/plain": [
       "<Figure size 640x480 with 1 Axes>"
      ]
     },
     "metadata": {},
     "output_type": "display_data"
    }
   ],
   "source": [
    "plt.scatter(x_axis_confound_strength, y_axis_ace)\n",
    "plt.xlabel(\"Confounding strength: $x$ in $P^*(T|C) = \\sigma(-1+x*C)$\")\n",
    "plt.ylim(2, 3)\n",
    "plt.axhline(y=rct_ace, color='r', linestyle='--', label=\"True (RCT) ATE\")\n",
    "plt.legend()\n",
    "plt.ylabel(\"Estimated ATE\");"
   ]
  }
 ],
 "metadata": {
  "kernelspec": {
   "display_name": "Python 3 (ipykernel)",
   "language": "python",
   "name": "python3"
  },
  "language_info": {
   "codemirror_mode": {
    "name": "ipython",
    "version": 3
   },
   "file_extension": ".py",
   "mimetype": "text/x-python",
   "name": "python",
   "nbconvert_exporter": "python",
   "pygments_lexer": "ipython3",
   "version": "3.11.4"
  }
 },
 "nbformat": 4,
 "nbformat_minor": 5
}
