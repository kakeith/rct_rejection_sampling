{
 "cells": [
  {
   "cell_type": "markdown",
   "id": "3d0bade5",
   "metadata": {},
   "source": [
    "# Synthetic experiments \n",
    "\n",
    "Using synthetic DGPs for DRCT, we produce DOBS using Algorithm 2 from Gentzel et al. (2021) and\n",
    "separately via our RCT rejection sampler."
   ]
  },
  {
   "cell_type": "code",
   "execution_count": 1,
   "id": "167e17fa",
   "metadata": {},
   "outputs": [],
   "source": [
    "from causal_eval.sampling import *\n",
    "\n",
    "import seaborn as sns\n",
    "import matplotlib.pyplot as plt\n",
    "\n",
    "%load_ext autoreload\n",
    "%autoreload 2 "
   ]
  },
  {
   "cell_type": "code",
   "execution_count": 2,
   "id": "a9d32223",
   "metadata": {},
   "outputs": [],
   "source": [
    "# random seed for the sampling methods same throughout\n",
    "rng = np.random.default_rng(10)"
   ]
  },
  {
   "cell_type": "markdown",
   "id": "371e4c4d",
   "metadata": {},
   "source": [
    "### Synthetic DGP Setting #1 \n",
    "`|C| = 1, P (T = 1) = 0.3`"
   ]
  },
  {
   "cell_type": "code",
   "execution_count": null,
   "id": "05eec4c0",
   "metadata": {},
   "outputs": [],
   "source": [
    "data, rct_ace = synthetic_dgp(setting=1, num_samples=100000)"
   ]
  },
  {
   "cell_type": "code",
   "execution_count": 5,
   "id": "a47173eb",
   "metadata": {},
   "outputs": [],
   "source": [
    "# Use the same parameters for the researcher-specified confouding functions for both sampling approaches\n",
    "confound_func_params={\"para_form\": \"linear\"} "
   ]
  },
  {
   "cell_type": "markdown",
   "id": "42e4a8e7",
   "metadata": {},
   "source": [
    "In the cell below, we calculate the absolute bias (abs. bias) between ATE from DRCT and the estimated ATE via backdoor adjustment on DOBS created by each sampling algorithm. We also report abs. bias relative to the RCT ATE\n",
    "(rel. abs. bias) and the mean and standard deviation (std.) across samples from 1000 random seeds."
   ]
  },
  {
   "cell_type": "markdown",
   "id": "12e662d4",
   "metadata": {},
   "source": [
    "#### Confidence Intervals \n",
    "\n",
    "We can construct confidence intervals via bootstrapping. We follow these steps: \n",
    "\n",
    "1. Use sampling (RCT rejection or Gentzel) to create data sample $S$\n",
    "2. Bootstrapping: resample $S$ with replacement $b$ times. \n",
    "3. Calculate the ACE for each bootstrap sample. \n",
    "4. Use the percentile method to obtain 95% confidence intervals. "
   ]
  },
  {
   "cell_type": "code",
   "execution_count": null,
   "id": "42fee28e",
   "metadata": {},
   "outputs": [],
   "source": [
    "data_out1 = bootstrapping_three_methods_linear(data, rct_ace, confound_func_params)"
   ]
  },
  {
   "cell_type": "code",
   "execution_count": null,
   "id": "903d9eeb",
   "metadata": {},
   "outputs": [],
   "source": [
    "title = f\"Synthetic DGP #1 \\nSize of RCT data = {len(data)} \\n1000 Bootstrap samples\"\n",
    "plot_bootstrap(data_out1, rct_ace, title);"
   ]
  },
  {
   "cell_type": "markdown",
   "id": "c34aeed7",
   "metadata": {},
   "source": [
    "We'll do the same thing with a smaller number of original samples. "
   ]
  },
  {
   "cell_type": "code",
   "execution_count": null,
   "id": "030e77cd",
   "metadata": {},
   "outputs": [],
   "source": [
    "data, rct_ace = synthetic_dgp(setting=1, num_samples=3000)"
   ]
  },
  {
   "cell_type": "code",
   "execution_count": null,
   "id": "1760492d",
   "metadata": {},
   "outputs": [],
   "source": [
    "data_out2 = bootstrapping_three_methods_linear(data, rct_ace, confound_func_params)"
   ]
  },
  {
   "cell_type": "code",
   "execution_count": null,
   "id": "6e40a0e0",
   "metadata": {},
   "outputs": [],
   "source": [
    "title = f\"Synthetic DGP #1 \\nSize of RCT data = {len(data)} \\n1000 Bootstrap samples\"\n",
    "plot_bootstrap(data_out2, rct_ace, title);"
   ]
  },
  {
   "cell_type": "markdown",
   "id": "07e142a4",
   "metadata": {},
   "source": [
    "Now, run through many seeds and get the results for the table. "
   ]
  },
  {
   "cell_type": "code",
   "execution_count": 15,
   "id": "5989a5aa",
   "metadata": {},
   "outputs": [
    {
     "name": "stdout",
     "output_type": "stream",
     "text": [
      "Sanity check\n",
      "RCT ACE unadjusted:  2.5980585123850455\n",
      "RCT ACE adjusting for C parametric backdoor:  2.5856617288177683\n"
     ]
    }
   ],
   "source": [
    "data, rct_ace = synthetic_dgp(setting=1, num_samples=1000)"
   ]
  },
  {
   "cell_type": "code",
   "execution_count": 16,
   "id": "90f08766",
   "metadata": {},
   "outputs": [
    {
     "name": "stdout",
     "output_type": "stream",
     "text": [
      "Invalid sample, T*C==T for all units\n",
      "OBRCT num invalid samples= 9\n",
      "Rejection num invalid samples= 9\n",
      "\n",
      "OBSRCT: MAE (over10 random seeds)=  0.25463991807013286\n",
      "\tOBSRCT: std AE (over10 random seeds)=  0.0\n",
      "OBSRCT: Relative MAE (over10 random seeds)=  0.09801161785088924\n",
      "\tOBSRCT: Relative AE std (over10 random seeds)=  0.0\n",
      "\n",
      "Rejection: MAE (over 10 random seeds)=  0.33598197278475794\n",
      "\tRejection: std AE (over 10 random seeds)=  0.0\n",
      "Rejection: Relative MAE (over10 random seeds)=  0.12932040259413669\n",
      "\tRejection: Relative AE std (over10 random seeds)=  0.0\n",
      "\n",
      "=== CI Coverage === \n",
      "Num bootstrap samples=1000\n",
      "OSRCT CI Coverage:  0.0\n",
      "Rejection CI Coverage: 0.0\n"
     ]
    }
   ],
   "source": [
    "out =  many_seeds(data, rct_ace, confound_func_params, is_linear=True, num_seeds=10, \n",
    "                  has_bootstrap=True, \n",
    "                  num_bootstrap_samples=1000)"
   ]
  },
  {
   "cell_type": "code",
   "execution_count": 17,
   "id": "ef8bf578",
   "metadata": {},
   "outputs": [
    {
     "name": "stderr",
     "output_type": "stream",
     "text": [
      "[Parallel(n_jobs=10)]: Using backend ThreadingBackend with 10 concurrent workers.\n"
     ]
    },
    {
     "name": "stdout",
     "output_type": "stream",
     "text": [
      "Invalid sample, T*C==T for all units\n"
     ]
    },
    {
     "name": "stderr",
     "output_type": "stream",
     "text": [
      "[Parallel(n_jobs=10)]: Done   3 out of  10 | elapsed:  1.6min remaining:  3.8min\n",
      "[Parallel(n_jobs=10)]: Done   6 out of  10 | elapsed:  1.6min remaining:  1.1min\n"
     ]
    },
    {
     "name": "stdout",
     "output_type": "stream",
     "text": [
      "OBRCT num invalid samples= 1\n",
      "Rejection num invalid samples= 1\n",
      "\n",
      "OBSRCT: MAE (over10 random seeds)=  0.2672997595932697\n",
      "\tOBSRCT: std AE (over10 random seeds)=  0.06507735510402632\n",
      "OBSRCT: Relative MAE (over10 random seeds)=  0.10288442632028547\n",
      "\tOBSRCT: Relative AE std (over10 random seeds)=  0.02504845629680781\n",
      "\n",
      "Rejection: MAE (over 10 random seeds)=  0.1065902421222564\n",
      "\tRejection: std AE (over 10 random seeds)=  0.0951670002513302\n",
      "Rejection: Relative MAE (over10 random seeds)=  0.041026882810428086\n",
      "\tRejection: Relative AE std (over10 random seeds)=  0.03663004501155975\n",
      "\n",
      "=== CI Coverage === \n",
      "Num bootstrap samples=1000\n",
      "OSRCT CI Coverage:  0.3333333333333333\n",
      "Rejection CI Coverage: 0.8888888888888888\n"
     ]
    },
    {
     "name": "stderr",
     "output_type": "stream",
     "text": [
      "[Parallel(n_jobs=10)]: Done  10 out of  10 | elapsed:  1.6min finished\n"
     ]
    }
   ],
   "source": [
    "results =  many_seeds(data, rct_ace, confound_func_params, is_linear=True, num_seeds=10, \n",
    "                  has_bootstrap=True, \n",
    "                  num_bootstrap_samples=1000, num_cores=10,\n",
    "                  run_in_parallel=True)"
   ]
  },
  {
   "cell_type": "markdown",
   "id": "abf53e4b",
   "metadata": {},
   "source": [
    "### Synthetic DGP Setting #2 \n",
    "`|C| = 1, P (T = 1) = 0.5 `"
   ]
  },
  {
   "cell_type": "code",
   "execution_count": null,
   "id": "5558d073",
   "metadata": {},
   "outputs": [],
   "source": [
    "data, rct_ace = synthetic_dgp(setting=2, num_samples=100000)"
   ]
  },
  {
   "cell_type": "markdown",
   "id": "a63a7f97",
   "metadata": {},
   "source": [
    "The cell below gives the results for the two different sampling algorithms for the synthetic DGP setting in the cell above across 1000 random seeds. "
   ]
  },
  {
   "cell_type": "code",
   "execution_count": null,
   "id": "38fef54b",
   "metadata": {},
   "outputs": [],
   "source": [
    "confound_func_params={\"para_form\": \"linear\"} \n",
    "out =  many_seeds(data, rct_ace, confound_func_params, is_linear=True, num_seeds=1000, \n",
    "                  has_bootstrap=True, \n",
    "                  num_bootstrap_samples=1000)"
   ]
  },
  {
   "cell_type": "markdown",
   "id": "1beeaa48",
   "metadata": {},
   "source": [
    "### Synthetic DGP Setting #3 \n",
    "`|C| = 5, Nonlinear`"
   ]
  },
  {
   "cell_type": "code",
   "execution_count": null,
   "id": "90c782ef",
   "metadata": {},
   "outputs": [],
   "source": [
    "data, rct_ace = synthetic_dgp(setting=3, num_samples=100000)"
   ]
  },
  {
   "cell_type": "markdown",
   "id": "683fc014",
   "metadata": {},
   "source": [
    "The cell below gives the results for the two different sampling algorithms for the synthetic DGP setting in the cell above across 1000 random seeds. "
   ]
  },
  {
   "cell_type": "code",
   "execution_count": null,
   "id": "3ecc960b",
   "metadata": {},
   "outputs": [],
   "source": [
    "confound_func_params = {\"para_form\": \"nonlinear\", \"C1\": 1.5, \"C2\": -0.7, \"C3\": 1.2, \"C4\": 1.5, \"C5\": -1.2}\n",
    "\n",
    "out =  many_seeds(data, rct_ace, confound_func_params, \n",
    "                  is_linear=False, \n",
    "                  num_seeds=1000, \n",
    "                  has_bootstrap=True, \n",
    "                  num_bootstrap_samples=1000)"
   ]
  },
  {
   "cell_type": "code",
   "execution_count": null,
   "id": "c198993e",
   "metadata": {},
   "outputs": [],
   "source": []
  }
 ],
 "metadata": {
  "kernelspec": {
   "display_name": "evalEnv",
   "language": "python",
   "name": "evalenv"
  },
  "language_info": {
   "codemirror_mode": {
    "name": "ipython",
    "version": 3
   },
   "file_extension": ".py",
   "mimetype": "text/x-python",
   "name": "python",
   "nbconvert_exporter": "python",
   "pygments_lexer": "ipython3",
   "version": "3.9.0"
  }
 },
 "nbformat": 4,
 "nbformat_minor": 5
}
