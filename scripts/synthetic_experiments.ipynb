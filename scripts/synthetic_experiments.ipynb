{
 "cells": [
  {
   "cell_type": "markdown",
   "id": "3d0bade5",
   "metadata": {},
   "source": [
    "# Synthetic experiments \n",
    "\n",
    "Using synthetic DGPs for DRCT, we produce DOBS using Algorithm 2 from Gentzel et al. (2021) and\n",
    "separately via our RCT rejection sampler."
   ]
  },
  {
   "cell_type": "code",
   "execution_count": 1,
   "id": "167e17fa",
   "metadata": {},
   "outputs": [],
   "source": [
    "from causal_eval.sampling import *\n",
    "\n",
    "import seaborn as sns\n",
    "import matplotlib.pyplot as plt\n",
    "\n",
    "%load_ext autoreload\n",
    "%autoreload 2 "
   ]
  },
  {
   "cell_type": "code",
   "execution_count": 2,
   "id": "a9d32223",
   "metadata": {},
   "outputs": [],
   "source": [
    "# random seed for the sampling methods same throughout\n",
    "rng = np.random.default_rng(10)"
   ]
  },
  {
   "cell_type": "markdown",
   "id": "371e4c4d",
   "metadata": {},
   "source": [
    "### Synthetic DGP Setting #1 \n",
    "`|C| = 1, P (T = 1) = 0.3`"
   ]
  },
  {
   "cell_type": "code",
   "execution_count": 3,
   "id": "05eec4c0",
   "metadata": {},
   "outputs": [
    {
     "name": "stdout",
     "output_type": "stream",
     "text": [
      "Sanity check\n",
      "RCT ACE unadjusted:  2.4809951502961516\n",
      "RCT ACE adjusting for C parametric backdoor:  2.4864917936261794\n"
     ]
    }
   ],
   "source": [
    "data, rct_ace = synthetic_dgp(setting=1, num_samples=100000)"
   ]
  },
  {
   "cell_type": "code",
   "execution_count": 4,
   "id": "a47173eb",
   "metadata": {},
   "outputs": [],
   "source": [
    "# Use the same parameters for the researcher-specified confouding functions for both sampling approaches\n",
    "confound_func_params={\"para_form\": \"linear\"} "
   ]
  },
  {
   "cell_type": "markdown",
   "id": "42e4a8e7",
   "metadata": {},
   "source": [
    "In the cell below, we calculate the absolute bias (abs. bias) between ATE from DRCT and the estimated ATE via backdoor adjustment on DOBS created by each sampling algorithm. We also report abs. bias relative to the RCT ATE\n",
    "(rel. abs. bias) and the mean and standard deviation (std.) across samples from 1000 random seeds."
   ]
  },
  {
   "cell_type": "markdown",
   "id": "12e662d4",
   "metadata": {},
   "source": [
    "#### Confidence Intervals \n",
    "\n",
    "We can construct confidence intervals via bootstrapping. We follow these steps: \n",
    "\n",
    "1. Use sampling (RCT rejection or Gentzel) to create data sample $S$\n",
    "2. Bootstrapping: resample $S$ with replacement $b$ times. \n",
    "3. Calculate the ACE for each bootstrap sample. \n",
    "4. Use the percentile method to obtain 95% confidence intervals. "
   ]
  },
  {
   "cell_type": "code",
   "execution_count": null,
   "id": "42fee28e",
   "metadata": {},
   "outputs": [],
   "source": [
    "data_out1 = bootstrapping_three_methods_linear(data, rct_ace, confound_func_params)"
   ]
  },
  {
   "cell_type": "code",
   "execution_count": null,
   "id": "903d9eeb",
   "metadata": {},
   "outputs": [],
   "source": [
    "title = f\"Synthetic DGP #1 \\nSize of RCT data = {len(data)} \\n1000 Bootstrap samples\"\n",
    "plot_bootstrap(data_out1, rct_ace, title);"
   ]
  },
  {
   "cell_type": "markdown",
   "id": "c34aeed7",
   "metadata": {},
   "source": [
    "We'll do the same thing with a smaller number of original samples. "
   ]
  },
  {
   "cell_type": "code",
   "execution_count": null,
   "id": "030e77cd",
   "metadata": {},
   "outputs": [],
   "source": [
    "data, rct_ace = synthetic_dgp(setting=1, num_samples=3000)"
   ]
  },
  {
   "cell_type": "code",
   "execution_count": null,
   "id": "1760492d",
   "metadata": {},
   "outputs": [],
   "source": [
    "data_out2 = bootstrapping_three_methods_linear(data, rct_ace, confound_func_params)"
   ]
  },
  {
   "cell_type": "code",
   "execution_count": null,
   "id": "6e40a0e0",
   "metadata": {},
   "outputs": [],
   "source": [
    "title = f\"Synthetic DGP #1 \\nSize of RCT data = {len(data)} \\n1000 Bootstrap samples\"\n",
    "plot_bootstrap(data_out2, rct_ace, title);"
   ]
  },
  {
   "cell_type": "code",
   "execution_count": null,
   "id": "1e8a8f6c",
   "metadata": {},
   "outputs": [],
   "source": [
    "# Katie: commenting just for the confidence interval dev\n",
    "#_ =  many_seeds(data, rct_ace, confound_func_params, is_linear=True, num_seeds=1000)"
   ]
  },
  {
   "cell_type": "markdown",
   "id": "abf53e4b",
   "metadata": {},
   "source": [
    "### Synthetic DGP Setting #2 \n",
    "`|C| = 1, P (T = 1) = 0.5 `"
   ]
  },
  {
   "cell_type": "code",
   "execution_count": 5,
   "id": "5558d073",
   "metadata": {},
   "outputs": [
    {
     "name": "stdout",
     "output_type": "stream",
     "text": [
      "Sanity check\n",
      "RCT ACE unadjusted:  2.4880390135966186\n",
      "RCT ACE adjusting for C parametric backdoor:  2.4855817263396593\n"
     ]
    }
   ],
   "source": [
    "data, rct_ace = synthetic_dgp(setting=2, num_samples=100000)"
   ]
  },
  {
   "cell_type": "markdown",
   "id": "a63a7f97",
   "metadata": {},
   "source": [
    "The cell below gives the results for the two different sampling algorithms for the synthetic DGP setting in the cell above across 1000 random seeds. "
   ]
  },
  {
   "cell_type": "code",
   "execution_count": 6,
   "id": "38fef54b",
   "metadata": {},
   "outputs": [
    {
     "name": "stdout",
     "output_type": "stream",
     "text": [
      "Invalid sample, T*C==T for all units\n"
     ]
    },
    {
     "ename": "KeyboardInterrupt",
     "evalue": "",
     "output_type": "error",
     "traceback": [
      "\u001b[0;31m---------------------------------------------------------------------------\u001b[0m",
      "\u001b[0;31mKeyboardInterrupt\u001b[0m                         Traceback (most recent call last)",
      "Cell \u001b[0;32mIn[6], line 2\u001b[0m\n\u001b[1;32m      1\u001b[0m confound_func_params\u001b[39m=\u001b[39m{\u001b[39m\"\u001b[39m\u001b[39mpara_form\u001b[39m\u001b[39m\"\u001b[39m: \u001b[39m\"\u001b[39m\u001b[39mlinear\u001b[39m\u001b[39m\"\u001b[39m} \n\u001b[0;32m----> 2\u001b[0m _ \u001b[39m=\u001b[39m many_seeds(data, rct_ace, confound_func_params, is_linear\u001b[39m=\u001b[39;49m\u001b[39mTrue\u001b[39;49;00m, num_seeds\u001b[39m=\u001b[39;49m\u001b[39m1000\u001b[39;49m)\n",
      "File \u001b[0;32m~/rct_rejection_sampling/causal_eval/sampling.py:538\u001b[0m, in \u001b[0;36mmany_seeds\u001b[0;34m(data, rct_ace, confound_func_params, is_linear, num_seeds)\u001b[0m\n\u001b[1;32m    536\u001b[0m \u001b[39mif\u001b[39;00m is_linear:\n\u001b[1;32m    537\u001b[0m     \u001b[39mif\u001b[39;00m check_invalid_sample(data_resampled): \u001b[39mcontinue\u001b[39;00m \n\u001b[0;32m--> 538\u001b[0m     sample_ace \u001b[39m=\u001b[39m parametric_backdoor(data_resampled, \u001b[39m\"\u001b[39;49m\u001b[39mY\u001b[39;49m\u001b[39m\"\u001b[39;49m, \u001b[39m\"\u001b[39;49m\u001b[39mT\u001b[39;49m\u001b[39m\"\u001b[39;49m, [\u001b[39m\"\u001b[39;49m\u001b[39mC\u001b[39;49m\u001b[39m\"\u001b[39;49m, \u001b[39m\"\u001b[39;49m\u001b[39mT*C\u001b[39;49m\u001b[39m\"\u001b[39;49m])\n\u001b[1;32m    539\u001b[0m \u001b[39melse\u001b[39;00m:\n\u001b[1;32m    540\u001b[0m     sample_ace \u001b[39m=\u001b[39m parametric_backdoor(data_resampled, \u001b[39m\"\u001b[39m\u001b[39mY\u001b[39m\u001b[39m\"\u001b[39m, \u001b[39m\"\u001b[39m\u001b[39mT\u001b[39m\u001b[39m\"\u001b[39m, [\u001b[39m\"\u001b[39m\u001b[39mC4\u001b[39m\u001b[39m\"\u001b[39m, \u001b[39m\"\u001b[39m\u001b[39mT*C1*C2\u001b[39m\u001b[39m\"\u001b[39m, \u001b[39m\"\u001b[39m\u001b[39mC2*C3\u001b[39m\u001b[39m\"\u001b[39m, \u001b[39m\"\u001b[39m\u001b[39mC5\u001b[39m\u001b[39m\"\u001b[39m])\n",
      "File \u001b[0;32m~/rct_rejection_sampling/causal_eval/sampling.py:300\u001b[0m, in \u001b[0;36mparametric_backdoor\u001b[0;34m(data, Y, T, C, state_space)\u001b[0m\n\u001b[1;32m    297\u001b[0m     formula \u001b[39m+\u001b[39m\u001b[39m=\u001b[39m \u001b[39m\"\u001b[39m\u001b[39m + \u001b[39m\u001b[39m\"\u001b[39m \u001b[39m+\u001b[39m \u001b[39m\"\u001b[39m\u001b[39m+\u001b[39m\u001b[39m\"\u001b[39m\u001b[39m.\u001b[39mjoin(C)\n\u001b[1;32m    299\u001b[0m \u001b[39mif\u001b[39;00m state_space \u001b[39m==\u001b[39m \u001b[39m\"\u001b[39m\u001b[39mcontinuous\u001b[39m\u001b[39m\"\u001b[39m:\n\u001b[0;32m--> 300\u001b[0m     model \u001b[39m=\u001b[39m sm\u001b[39m.\u001b[39;49mGLM\u001b[39m.\u001b[39;49mfrom_formula(formula\u001b[39m=\u001b[39;49mformula, data\u001b[39m=\u001b[39;49mdata, family\u001b[39m=\u001b[39;49msm\u001b[39m.\u001b[39;49mfamilies\u001b[39m.\u001b[39;49mGaussian())\u001b[39m.\u001b[39mfit()\n\u001b[1;32m    301\u001b[0m \u001b[39melse\u001b[39;00m:\n\u001b[1;32m    302\u001b[0m     model \u001b[39m=\u001b[39m sm\u001b[39m.\u001b[39mGLM\u001b[39m.\u001b[39mfrom_formula(formula\u001b[39m=\u001b[39mformula, data\u001b[39m=\u001b[39mdata, family\u001b[39m=\u001b[39msm\u001b[39m.\u001b[39mfamilies\u001b[39m.\u001b[39mBinomial())\u001b[39m.\u001b[39mfit()\n",
      "File \u001b[0;32m~/miniconda3/envs/evalEnv/lib/python3.9/site-packages/statsmodels/base/model.py:200\u001b[0m, in \u001b[0;36mModel.from_formula\u001b[0;34m(cls, formula, data, subset, drop_cols, *args, **kwargs)\u001b[0m\n\u001b[1;32m    197\u001b[0m \u001b[39mif\u001b[39;00m missing \u001b[39m==\u001b[39m \u001b[39m'\u001b[39m\u001b[39mnone\u001b[39m\u001b[39m'\u001b[39m:  \u001b[39m# with patsy it's drop or raise. let's raise.\u001b[39;00m\n\u001b[1;32m    198\u001b[0m     missing \u001b[39m=\u001b[39m \u001b[39m'\u001b[39m\u001b[39mraise\u001b[39m\u001b[39m'\u001b[39m\n\u001b[0;32m--> 200\u001b[0m tmp \u001b[39m=\u001b[39m handle_formula_data(data, \u001b[39mNone\u001b[39;49;00m, formula, depth\u001b[39m=\u001b[39;49meval_env,\n\u001b[1;32m    201\u001b[0m                           missing\u001b[39m=\u001b[39;49mmissing)\n\u001b[1;32m    202\u001b[0m ((endog, exog), missing_idx, design_info) \u001b[39m=\u001b[39m tmp\n\u001b[1;32m    203\u001b[0m max_endog \u001b[39m=\u001b[39m \u001b[39mcls\u001b[39m\u001b[39m.\u001b[39m_formula_max_endog\n",
      "File \u001b[0;32m~/miniconda3/envs/evalEnv/lib/python3.9/site-packages/statsmodels/formula/formulatools.py:63\u001b[0m, in \u001b[0;36mhandle_formula_data\u001b[0;34m(Y, X, formula, depth, missing)\u001b[0m\n\u001b[1;32m     61\u001b[0m \u001b[39melse\u001b[39;00m:\n\u001b[1;32m     62\u001b[0m     \u001b[39mif\u001b[39;00m data_util\u001b[39m.\u001b[39m_is_using_pandas(Y, \u001b[39mNone\u001b[39;00m):\n\u001b[0;32m---> 63\u001b[0m         result \u001b[39m=\u001b[39m dmatrices(formula, Y, depth, return_type\u001b[39m=\u001b[39;49m\u001b[39m'\u001b[39;49m\u001b[39mdataframe\u001b[39;49m\u001b[39m'\u001b[39;49m,\n\u001b[1;32m     64\u001b[0m                            NA_action\u001b[39m=\u001b[39;49mna_action)\n\u001b[1;32m     65\u001b[0m     \u001b[39melse\u001b[39;00m:\n\u001b[1;32m     66\u001b[0m         result \u001b[39m=\u001b[39m dmatrices(formula, Y, depth, return_type\u001b[39m=\u001b[39m\u001b[39m'\u001b[39m\u001b[39mdataframe\u001b[39m\u001b[39m'\u001b[39m,\n\u001b[1;32m     67\u001b[0m                            NA_action\u001b[39m=\u001b[39mna_action)\n",
      "File \u001b[0;32m~/miniconda3/envs/evalEnv/lib/python3.9/site-packages/patsy/highlevel.py:309\u001b[0m, in \u001b[0;36mdmatrices\u001b[0;34m(formula_like, data, eval_env, NA_action, return_type)\u001b[0m\n\u001b[1;32m    299\u001b[0m \u001b[39m\u001b[39m\u001b[39m\"\"\"Construct two design matrices given a formula_like and data.\u001b[39;00m\n\u001b[1;32m    300\u001b[0m \n\u001b[1;32m    301\u001b[0m \u001b[39mThis function is identical to :func:`dmatrix`, except that it requires\u001b[39;00m\n\u001b[0;32m   (...)\u001b[0m\n\u001b[1;32m    306\u001b[0m \u001b[39mSee :func:`dmatrix` for details.\u001b[39;00m\n\u001b[1;32m    307\u001b[0m \u001b[39m\"\"\"\u001b[39;00m\n\u001b[1;32m    308\u001b[0m eval_env \u001b[39m=\u001b[39m EvalEnvironment\u001b[39m.\u001b[39mcapture(eval_env, reference\u001b[39m=\u001b[39m\u001b[39m1\u001b[39m)\n\u001b[0;32m--> 309\u001b[0m (lhs, rhs) \u001b[39m=\u001b[39m _do_highlevel_design(formula_like, data, eval_env,\n\u001b[1;32m    310\u001b[0m                                   NA_action, return_type)\n\u001b[1;32m    311\u001b[0m \u001b[39mif\u001b[39;00m lhs\u001b[39m.\u001b[39mshape[\u001b[39m1\u001b[39m] \u001b[39m==\u001b[39m \u001b[39m0\u001b[39m:\n\u001b[1;32m    312\u001b[0m     \u001b[39mraise\u001b[39;00m PatsyError(\u001b[39m\"\u001b[39m\u001b[39mmodel is missing required outcome variables\u001b[39m\u001b[39m\"\u001b[39m)\n",
      "File \u001b[0;32m~/miniconda3/envs/evalEnv/lib/python3.9/site-packages/patsy/highlevel.py:167\u001b[0m, in \u001b[0;36m_do_highlevel_design\u001b[0;34m(formula_like, data, eval_env, NA_action, return_type)\u001b[0m\n\u001b[1;32m    164\u001b[0m design_infos \u001b[39m=\u001b[39m _try_incr_builders(formula_like, data_iter_maker, eval_env,\n\u001b[1;32m    165\u001b[0m                                   NA_action)\n\u001b[1;32m    166\u001b[0m \u001b[39mif\u001b[39;00m design_infos \u001b[39mis\u001b[39;00m \u001b[39mnot\u001b[39;00m \u001b[39mNone\u001b[39;00m:\n\u001b[0;32m--> 167\u001b[0m     \u001b[39mreturn\u001b[39;00m build_design_matrices(design_infos, data,\n\u001b[1;32m    168\u001b[0m                                  NA_action\u001b[39m=\u001b[39;49mNA_action,\n\u001b[1;32m    169\u001b[0m                                  return_type\u001b[39m=\u001b[39;49mreturn_type)\n\u001b[1;32m    170\u001b[0m \u001b[39melse\u001b[39;00m:\n\u001b[1;32m    171\u001b[0m     \u001b[39m# No builders, but maybe we can still get matrices\u001b[39;00m\n\u001b[1;32m    172\u001b[0m     \u001b[39mif\u001b[39;00m \u001b[39misinstance\u001b[39m(formula_like, \u001b[39mtuple\u001b[39m):\n",
      "File \u001b[0;32m~/miniconda3/envs/evalEnv/lib/python3.9/site-packages/patsy/build.py:921\u001b[0m, in \u001b[0;36mbuild_design_matrices\u001b[0;34m(design_infos, data, NA_action, return_type, dtype)\u001b[0m\n\u001b[1;32m    919\u001b[0m     is_NAs\u001b[39m.\u001b[39mappend(np\u001b[39m.\u001b[39mzeros(\u001b[39mlen\u001b[39m(pandas_index), dtype\u001b[39m=\u001b[39m\u001b[39mbool\u001b[39m))\n\u001b[1;32m    920\u001b[0m     origins\u001b[39m.\u001b[39mappend(\u001b[39mNone\u001b[39;00m)\n\u001b[0;32m--> 921\u001b[0m new_values \u001b[39m=\u001b[39m NA_action\u001b[39m.\u001b[39;49mhandle_NA(values, is_NAs, origins)\n\u001b[1;32m    922\u001b[0m \u001b[39m# NA_action may have changed the number of rows.\u001b[39;00m\n\u001b[1;32m    923\u001b[0m \u001b[39mif\u001b[39;00m new_values:\n",
      "File \u001b[0;32m~/miniconda3/envs/evalEnv/lib/python3.9/site-packages/patsy/missing.py:165\u001b[0m, in \u001b[0;36mNAAction.handle_NA\u001b[0;34m(self, values, is_NAs, origins)\u001b[0m\n\u001b[1;32m    163\u001b[0m     \u001b[39mreturn\u001b[39;00m \u001b[39mself\u001b[39m\u001b[39m.\u001b[39m_handle_NA_raise(values, is_NAs, origins)\n\u001b[1;32m    164\u001b[0m \u001b[39melif\u001b[39;00m \u001b[39mself\u001b[39m\u001b[39m.\u001b[39mon_NA \u001b[39m==\u001b[39m \u001b[39m\"\u001b[39m\u001b[39mdrop\u001b[39m\u001b[39m\"\u001b[39m:\n\u001b[0;32m--> 165\u001b[0m     \u001b[39mreturn\u001b[39;00m \u001b[39mself\u001b[39;49m\u001b[39m.\u001b[39;49m_handle_NA_drop(values, is_NAs, origins)\n\u001b[1;32m    166\u001b[0m \u001b[39melse\u001b[39;00m: \u001b[39m# pragma: no cover\u001b[39;00m\n\u001b[1;32m    167\u001b[0m     \u001b[39massert\u001b[39;00m \u001b[39mFalse\u001b[39;00m\n",
      "File \u001b[0;32m~/miniconda3/envs/evalEnv/lib/python3.9/site-packages/statsmodels/formula/formulatools.py:21\u001b[0m, in \u001b[0;36mNAAction._handle_NA_drop\u001b[0;34m(self, values, is_NAs, origins)\u001b[0m\n\u001b[1;32m     19\u001b[0m \u001b[39mself\u001b[39m\u001b[39m.\u001b[39mmissing_mask \u001b[39m=\u001b[39m total_mask\n\u001b[1;32m     20\u001b[0m \u001b[39m# \"...\" to handle 1- versus 2-dim indexing\u001b[39;00m\n\u001b[0;32m---> 21\u001b[0m \u001b[39mreturn\u001b[39;00m [v[good_mask, \u001b[39m.\u001b[39m\u001b[39m.\u001b[39m\u001b[39m.\u001b[39m] \u001b[39mfor\u001b[39;00m v \u001b[39min\u001b[39;00m values]\n",
      "File \u001b[0;32m~/miniconda3/envs/evalEnv/lib/python3.9/site-packages/statsmodels/formula/formulatools.py:21\u001b[0m, in \u001b[0;36m<listcomp>\u001b[0;34m(.0)\u001b[0m\n\u001b[1;32m     19\u001b[0m \u001b[39mself\u001b[39m\u001b[39m.\u001b[39mmissing_mask \u001b[39m=\u001b[39m total_mask\n\u001b[1;32m     20\u001b[0m \u001b[39m# \"...\" to handle 1- versus 2-dim indexing\u001b[39;00m\n\u001b[0;32m---> 21\u001b[0m \u001b[39mreturn\u001b[39;00m [v[good_mask, \u001b[39m.\u001b[39;49m\u001b[39m.\u001b[39;49m\u001b[39m.\u001b[39;49m] \u001b[39mfor\u001b[39;00m v \u001b[39min\u001b[39;00m values]\n",
      "\u001b[0;31mKeyboardInterrupt\u001b[0m: "
     ]
    }
   ],
   "source": [
    "confound_func_params={\"para_form\": \"linear\"} \n",
    "_ = many_seeds(data, rct_ace, confound_func_params, is_linear=True, num_seeds=1000)"
   ]
  },
  {
   "cell_type": "markdown",
   "id": "1beeaa48",
   "metadata": {},
   "source": [
    "### Synthetic DGP Setting #3 \n",
    "`|C| = 5, Nonlinear`"
   ]
  },
  {
   "cell_type": "code",
   "execution_count": 7,
   "id": "90c782ef",
   "metadata": {},
   "outputs": [
    {
     "name": "stdout",
     "output_type": "stream",
     "text": [
      "RCT ACE -0.2574222302855121\n",
      "Sanity check\n",
      "RCT ACE unadjusted:  -0.2574222302855136\n"
     ]
    }
   ],
   "source": [
    "data, rct_ace = synthetic_dgp(setting=3, num_samples=100000)"
   ]
  },
  {
   "cell_type": "markdown",
   "id": "683fc014",
   "metadata": {},
   "source": [
    "The cell below gives the results for the two different sampling algorithms for the synthetic DGP setting in the cell above across 1000 random seeds. "
   ]
  },
  {
   "cell_type": "code",
   "execution_count": null,
   "id": "3ecc960b",
   "metadata": {},
   "outputs": [],
   "source": [
    "confound_func_params = {\"para_form\": \"nonlinear\", \"C1\": 1.5, \"C2\": -0.7, \"C3\": 1.2, \"C4\": 1.5, \"C5\": -1.2}\n",
    "_ = many_seeds(data, rct_ace, confound_func_params, is_linear=False, num_seeds=1000)"
   ]
  }
 ],
 "metadata": {
  "kernelspec": {
   "display_name": "evalEnv",
   "language": "python",
   "name": "evalenv"
  },
  "language_info": {
   "codemirror_mode": {
    "name": "ipython",
    "version": 3
   },
   "file_extension": ".py",
   "mimetype": "text/x-python",
   "name": "python",
   "nbconvert_exporter": "python",
   "pygments_lexer": "ipython3",
   "version": "3.9.0"
  }
 },
 "nbformat": 4,
 "nbformat_minor": 5
}
