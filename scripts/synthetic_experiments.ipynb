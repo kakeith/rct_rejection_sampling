{
 "cells": [
  {
   "cell_type": "markdown",
   "id": "3d0bade5",
   "metadata": {},
   "source": [
    "# Synthetic experiments \n",
    "\n",
    "Using synthetic DGPs for DRCT, we produce DOBS using Algorithm 2 from Gentzel et al. (2021) and\n",
    "separately via our RCT rejection sampler."
   ]
  },
  {
   "cell_type": "code",
   "execution_count": 1,
   "id": "167e17fa",
   "metadata": {},
   "outputs": [],
   "source": [
    "from causal_eval.sampling import *\n",
    "\n",
    "import seaborn as sns\n",
    "import matplotlib.pyplot as plt\n",
    "\n",
    "%load_ext autoreload\n",
    "%autoreload 2 "
   ]
  },
  {
   "cell_type": "code",
   "execution_count": 2,
   "id": "a9d32223",
   "metadata": {},
   "outputs": [],
   "source": [
    "# random seed for the sampling methods same throughout\n",
    "rng = np.random.default_rng(10)"
   ]
  },
  {
   "cell_type": "markdown",
   "id": "371e4c4d",
   "metadata": {},
   "source": [
    "### Synthetic DGP Setting #1 \n",
    "`|C| = 1, P (T = 1) = 0.3`"
   ]
  },
  {
   "cell_type": "code",
   "execution_count": 3,
   "id": "fb32b3f1",
   "metadata": {},
   "outputs": [
    {
     "name": "stdout",
     "output_type": "stream",
     "text": [
      "RCT ACE unadjusted 2.4809951502961516\n",
      "RCT ACE adjusting for C 2.4864917936261794\n"
     ]
    }
   ],
   "source": [
    "#######################\n",
    "# DGP for RCT T->Y<-C\n",
    "######################\n",
    "num_samples = 100000\n",
    "\n",
    "#keep the random seed for the DGP distinct from the sampling seed \n",
    "rng_dgp = np.random.default_rng(0)\n",
    "\n",
    "C = rng_dgp.binomial(1, 0.5, num_samples)\n",
    "T = rng_dgp.binomial(1, 0.3, num_samples)\n",
    "Y = 0.5*C + 1.5*T + 2*T*C + rng_dgp.normal(0, 1, num_samples)\n",
    "data = pd.DataFrame({\"C\": C, \"T\": T, \"Y\": Y})\n",
    "\n",
    "# perform some sanity checks\n",
    "# in the RCT data we should see unadjusted == adjusted \n",
    "rct_ace =  parametric_backdoor(data, \"Y\", \"T\", [])\n",
    "print(\"RCT ACE unadjusted\", rct_ace)\n",
    "print(\"RCT ACE adjusting for C\", parametric_backdoor(data, \"Y\", \"T\", [\"C\", \"T*C\"]))"
   ]
  },
  {
   "cell_type": "code",
   "execution_count": 4,
   "id": "a47173eb",
   "metadata": {},
   "outputs": [],
   "source": [
    "# Use the same parameters for the researcher-specified confouding functions for both sampling approaches\n",
    "confound_func_params={\"para_form\": \"linear\"} "
   ]
  },
  {
   "cell_type": "markdown",
   "id": "42e4a8e7",
   "metadata": {},
   "source": [
    "In the cell below, we calculate the absolute bias (abs. bias) between ATE from DRCT and the estimated ATE via backdoor adjustment on DOBS created by each sampling algorithm. We also report abs. bias relative to the RCT ATE\n",
    "(rel. abs. bias) and the mean and standard deviation (std.) across samples from 1000 random seeds."
   ]
  },
  {
   "cell_type": "code",
   "execution_count": 5,
   "id": "61c64cf1",
   "metadata": {},
   "outputs": [
    {
     "name": "stdout",
     "output_type": "stream",
     "text": [
      "Invalid sample, T*C==T for all units\n",
      "OBRCT num invalid samples= 1\n",
      "Rejection num invalid samples= 1\n",
      "\n",
      "OBSRCT: MAE (over1000 random seeds)=  0.22190163424479398\n",
      "\tOBSRCT: std AE (over1000 random seeds)=  0.010416912320412452\n",
      "OBSRCT: Relative MAE (over1000 random seeds)=  0.08944057557641982\n",
      "\tOBSRCT: Relative AE std (over1000 random seeds)=  0.004198683064402204\n",
      "\n",
      "Rejection: MAE (over 1000 random seeds)=  0.008747989008891045\n",
      "\tRejection: std AE (over 1000 random seeds)=  0.007075051089644277\n",
      "Rejection: Relative MAE (over1000 random seeds)=  0.0035260000439125464\n",
      "\tRejection: Relative AE std (over1000 random seeds)=  0.0028516988792983903\n"
     ]
    }
   ],
   "source": [
    "_ =  many_seeds(data, rct_ace, confound_func_params, is_linear=True, num_seeds=1000)"
   ]
  },
  {
   "cell_type": "markdown",
   "id": "abf53e4b",
   "metadata": {},
   "source": [
    "### Synthetic DGP Setting #2 \n",
    "`|C| = 1, P (T = 1) = 0.5 `"
   ]
  },
  {
   "cell_type": "code",
   "execution_count": 6,
   "id": "d5a44329",
   "metadata": {},
   "outputs": [
    {
     "name": "stdout",
     "output_type": "stream",
     "text": [
      "RCT ACE unadjusted 2.4880390135966186\n",
      "RCT ACE adjusting for C 2.4855817263396593\n"
     ]
    }
   ],
   "source": [
    "#######################\n",
    "# DGP for RCT T->Y<-C\n",
    "######################\n",
    "num_samples = 100000\n",
    "\n",
    "#keep the random seed for the DGP distinct from the sampling seed \n",
    "rng_dgp = np.random.default_rng(0)\n",
    "\n",
    "C = rng_dgp.binomial(1, 0.5, num_samples)\n",
    "T = rng_dgp.binomial(1, 0.5, num_samples) #Set P(T=1)=0.5\n",
    "Y = 0.5*C + 1.5*T + 2*T*C + rng_dgp.normal(0, 1, num_samples)\n",
    "data = pd.DataFrame({\"C\": C, \"T\": T, \"Y\": Y})\n",
    "\n",
    "# perform some sanity checks\n",
    "# in the RCT data we should see unadjusted == adjusted \n",
    "rct_ace =  parametric_backdoor(data, \"Y\", \"T\", [])\n",
    "print(\"RCT ACE unadjusted\", rct_ace)\n",
    "print(\"RCT ACE adjusting for C\", parametric_backdoor(data, \"Y\", \"T\", [\"C\", \"T*C\"]))"
   ]
  },
  {
   "cell_type": "markdown",
   "id": "a63a7f97",
   "metadata": {},
   "source": [
    "The cell below gives the results for the two different sampling algorithms for the synthetic DGP setting in the cell above across 1000 random seeds. "
   ]
  },
  {
   "cell_type": "code",
   "execution_count": 7,
   "id": "38fef54b",
   "metadata": {},
   "outputs": [
    {
     "name": "stdout",
     "output_type": "stream",
     "text": [
      "Invalid sample, T*C==T for all units\n",
      "OBRCT num invalid samples= 1\n",
      "Rejection num invalid samples= 1\n",
      "\n",
      "OBSRCT: MAE (over1000 random seeds)=  0.00851488463523465\n",
      "\tOBSRCT: std AE (over1000 random seeds)=  0.0064717555624195676\n",
      "OBSRCT: Relative MAE (over1000 random seeds)=  0.0034223276197449344\n",
      "\tOBSRCT: Relative AE std (over1000 random seeds)=  0.002601147139193864\n",
      "\n",
      "Rejection: MAE (over 1000 random seeds)=  0.006830749100601587\n",
      "\tRejection: std AE (over 1000 random seeds)=  0.005199595314186686\n",
      "Rejection: Relative MAE (over1000 random seeds)=  0.0027454348839680387\n",
      "\tRejection: Relative AE std (over1000 random seeds)=  0.002089836729155762\n"
     ]
    }
   ],
   "source": [
    "confound_func_params={\"para_form\": \"linear\"} \n",
    "_ = many_seeds(data, rct_ace, confound_func_params, is_linear=True, num_seeds=1000)"
   ]
  },
  {
   "cell_type": "markdown",
   "id": "1beeaa48",
   "metadata": {},
   "source": [
    "### Synthetic DGP Setting #3 \n",
    "`|C| = 5, Nonlinear`"
   ]
  },
  {
   "cell_type": "code",
   "execution_count": 8,
   "id": "bc918951",
   "metadata": {},
   "outputs": [
    {
     "name": "stdout",
     "output_type": "stream",
     "text": [
      "RCT ACE -0.2574222302855121\n"
     ]
    }
   ],
   "source": [
    "# DGP\n",
    "num_samples = 100000\n",
    "rng_dgp = np.random.default_rng(0)\n",
    "\n",
    "#keep the random seed for the DGP distinct from the sampling seed \n",
    "rng_dgp = np.random.default_rng(0)\n",
    "\n",
    "C1 = rng_dgp.binomial(1, 0.5, num_samples)\n",
    "C2 = C1 + rng_dgp.uniform(-0.5, 1, num_samples)\n",
    "C3 = rng_dgp.normal(0, 1, num_samples)\n",
    "C4 = rng_dgp.normal(0, 1, num_samples)\n",
    "C5 = C3 + C4 + rng_dgp.normal(0, 1, num_samples)\n",
    "T = rng_dgp.binomial(1, 0.3, num_samples)\n",
    "Y = 0.5*C4 + 2*T*C1*C2 - 1.5*T + C2*C3 + C5 + rng_dgp.normal(0, 1, num_samples)\n",
    "data = pd.DataFrame({\"C1\": C1, \"C2\": C2, \"C3\": C3, \"C4\": C4, \"C5\": C5, \"T\": T, \"Y\": Y})\n",
    "print(\"RCT ACE\", np.mean(data[data['T'] == 1][\"Y\"]) - np.mean(data[data['T'] == 0][\"Y\"]))"
   ]
  },
  {
   "cell_type": "code",
   "execution_count": 9,
   "id": "9529e18a",
   "metadata": {},
   "outputs": [
    {
     "name": "stdout",
     "output_type": "stream",
     "text": [
      "RCT ACE unadjusted -0.2574222302855136\n",
      "RCT ACE adjusting for C  -0.2574222302855136\n"
     ]
    }
   ],
   "source": [
    "rct_ace =  parametric_backdoor(data, \"Y\", \"T\", [])\n",
    "print(\"RCT ACE unadjusted\", rct_ace)\n",
    "print(\"RCT ACE adjusting for C \", parametric_backdoor(data, \"Y\", \"T\", []))"
   ]
  },
  {
   "cell_type": "markdown",
   "id": "683fc014",
   "metadata": {},
   "source": [
    "The cell below gives the results for the two different sampling algorithms for the synthetic DGP setting in the cell above across 1000 random seeds. "
   ]
  },
  {
   "cell_type": "code",
   "execution_count": 10,
   "id": "3ecc960b",
   "metadata": {},
   "outputs": [
    {
     "name": "stdout",
     "output_type": "stream",
     "text": [
      "OBRCT num invalid samples= 0\n",
      "Rejection num invalid samples= 0\n",
      "\n",
      "OBSRCT: MAE (over1000 random seeds)=  0.2519952295473326\n",
      "\tOBSRCT: std AE (over1000 random seeds)=  0.009636055470132234\n",
      "OBSRCT: Relative MAE (over1000 random seeds)=  0.9789179017982955\n",
      "\tOBSRCT: Relative AE std (over1000 random seeds)=  0.03743288005641408\n",
      "\n",
      "Rejection: MAE (over 1000 random seeds)=  0.01184686280238446\n",
      "\tRejection: std AE (over 1000 random seeds)=  0.008859601949149221\n",
      "Rejection: Relative MAE (over1000 random seeds)=  0.04602113340889325\n",
      "\tRejection: Relative AE std (over1000 random seeds)=  0.03441661560978168\n"
     ]
    }
   ],
   "source": [
    "confound_func_params = {\"para_form\": \"nonlinear\", \"C1\": 1.5, \"C2\": -0.7, \"C3\": 1.2, \"C4\": 1.5, \"C5\": -1.2}\n",
    "_ = many_seeds(data, rct_ace, confound_func_params, is_linear=False, num_seeds=1000)"
   ]
  }
 ],
 "metadata": {
  "kernelspec": {
   "display_name": "evalEnv",
   "language": "python",
   "name": "evalenv"
  },
  "language_info": {
   "codemirror_mode": {
    "name": "ipython",
    "version": 3
   },
   "file_extension": ".py",
   "mimetype": "text/x-python",
   "name": "python",
   "nbconvert_exporter": "python",
   "pygments_lexer": "ipython3",
   "version": "3.9.0"
  }
 },
 "nbformat": 4,
 "nbformat_minor": 5
}
